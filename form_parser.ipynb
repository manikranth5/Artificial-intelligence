{
 "cells": [
  {
   "cell_type": "code",
   "execution_count": 63,
   "metadata": {
    "collapsed": true
   },
   "outputs": [],
   "source": [
    "%matplotlib inline\n",
    "import matplotlib.pyplot as plt\n",
    "import tensorflow as tf\n",
    "import numpy as np\n",
    "from sklearn.metrics import confusion_matrix\n",
    "from datetime import timedelta\n",
    "import collections\n",
    "from IPython.display import Image as NotebookImage\n",
    "from PIL import Image\n",
    "from glob import glob\n",
    "import cv2"
   ]
  },
  {
   "cell_type": "code",
   "execution_count": 2,
   "metadata": {
    "collapsed": true
   },
   "outputs": [],
   "source": [
    "FORM_PATH = '/home/vimal/Downloads/lead_creation_form.jpg'"
   ]
  },
  {
   "cell_type": "code",
   "execution_count": 56,
   "metadata": {
    "collapsed": false
   },
   "outputs": [],
   "source": [
    "def save_rectangle(startX,startY, image_number, flux=70):\n",
    "    img = Image.open(FORM_PATH)\n",
    "    rect = (startX, startY, startX  + flux, startY + flux)\n",
    "    img.crop(rect).save('outputs/%d.png' % image_number)"
   ]
  },
  {
   "cell_type": "code",
   "execution_count": 75,
   "metadata": {
    "collapsed": false
   },
   "outputs": [],
   "source": [
    "def massage_images():\n",
    "    for img_path in glob('outputs/*.png'):\n",
    "        img = cv2.imread(img_path)\n",
    "        gray = cv2.cvtColor(img, cv2.COLOR_BGR2GRAY)\n",
    "        resized  = cv2.resize(gray, (30, 22))\n",
    "        ret, mask_inv = cv2.threshold(resized, 220, 255, cv2.THRESH_BINARY_INV)    \n",
    "        cv2.imwrite(img_path, mask_inv)"
   ]
  },
  {
   "cell_type": "code",
   "execution_count": 78,
   "metadata": {
    "collapsed": false
   },
   "outputs": [],
   "source": [
    "flux = 70\n",
    "startX = 620\n",
    "startY = 720\n",
    "deltaX = 95\n",
    "i = 0\n",
    "for row in range(3):\n",
    "    for cell in range(10):        \n",
    "        save_rectangle(startX, startY, i)\n",
    "        startX += deltaX\n",
    "        i += 1\n",
    "    startY += 100\n",
    "    startX = startX - (10 * deltaX)\n",
    "massage_images()\n"
   ]
  },
  {
   "cell_type": "code",
   "execution_count": 77,
   "metadata": {
    "collapsed": false
   },
   "outputs": [
    {
     "data": {
      "image/png": "[encoded data removed]",
      "text/plain": [
       "<IPython.core.display.Image object>"
      ]
     },
     "execution_count": 77,
     "metadata": {},
     "output_type": "execute_result"
    }
   ],
   "source": [
    "flux = 70\n",
    "startX = 620\n",
    "startY = 720\n",
    "\n",
    "save_rectangle(startX, startY+100, 70, 13)\n",
    "NotebookImage(filename='outputs/13.png') \n",
    "\n"
   ]
  },
  {
   "cell_type": "code",
   "execution_count": 72,
   "metadata": {
    "collapsed": false
   },
   "outputs": [],
   "source": []
  },
  {
   "cell_type": "code",
   "execution_count": null,
   "metadata": {
    "collapsed": true
   },
   "outputs": [],
   "source": []
  }
 ],
 "metadata": {
  "anaconda-cloud": {},
  "kernelspec": {
   "display_name": "Python [conda root]",
   "language": "python",
   "name": "conda-root-py"
  },
  "language_info": {
   "codemirror_mode": {
    "name": "ipython",
    "version": 3
   },
   "file_extension": ".py",
   "mimetype": "text/x-python",
   "name": "python",
   "nbconvert_exporter": "python",
   "pygments_lexer": "ipython3",
   "version": "3.5.2"
  }
 },
 "nbformat": 4,
 "nbformat_minor": 1
}
